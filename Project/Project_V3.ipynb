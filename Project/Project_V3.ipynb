{
 "cells": [
  {
   "cell_type": "code",
   "execution_count": 1,
   "metadata": {},
   "outputs": [],
   "source": [
    "import pandas\n",
    "from Corpus import Corpus\n",
    "from Classes import Documents"
   ]
  },
  {
   "cell_type": "code",
   "execution_count": 2,
   "metadata": {},
   "outputs": [
    {
     "data": {
      "text/html": [
       "<div>\n",
       "<style scoped>\n",
       "    .dataframe tbody tr th:only-of-type {\n",
       "        vertical-align: middle;\n",
       "    }\n",
       "\n",
       "    .dataframe tbody tr th {\n",
       "        vertical-align: top;\n",
       "    }\n",
       "\n",
       "    .dataframe thead th {\n",
       "        text-align: right;\n",
       "    }\n",
       "</style>\n",
       "<table border=\"1\" class=\"dataframe\">\n",
       "  <thead>\n",
       "    <tr style=\"text-align: right;\">\n",
       "      <th></th>\n",
       "      <th>Contexte gauche</th>\n",
       "      <th>Motif trouvé</th>\n",
       "      <th>Contexte droit</th>\n",
       "    </tr>\n",
       "  </thead>\n",
       "  <tbody>\n",
       "    <tr>\n",
       "      <th>0</th>\n",
       "      <td>it took to make it</td>\n",
       "      <td>work</td>\n",
       "      <td>But I think it's f</td>\n",
       "    </tr>\n",
       "    <tr>\n",
       "      <th>1</th>\n",
       "      <td>re than the typical</td>\n",
       "      <td>work</td>\n",
       "      <td>er  There's somethin</td>\n",
       "    </tr>\n",
       "    <tr>\n",
       "      <th>2</th>\n",
       "      <td>wrong when American</td>\n",
       "      <td>work</td>\n",
       "      <td>ers keep getting mor</td>\n",
       "    </tr>\n",
       "    <tr>\n",
       "      <th>3</th>\n",
       "      <td>is piecing together</td>\n",
       "      <td>work</td>\n",
       "      <td>and loans, knowing</td>\n",
       "    </tr>\n",
       "    <tr>\n",
       "      <th>4</th>\n",
       "      <td>believed you had to</td>\n",
       "      <td>work</td>\n",
       "      <td>hard to make your w</td>\n",
       "    </tr>\n",
       "    <tr>\n",
       "      <th>...</th>\n",
       "      <td>...</td>\n",
       "      <td>...</td>\n",
       "      <td>...</td>\n",
       "    </tr>\n",
       "    <tr>\n",
       "      <th>2106</th>\n",
       "      <td>rump and offered to</td>\n",
       "      <td>work</td>\n",
       "      <td>with him on behalf</td>\n",
       "    </tr>\n",
       "    <tr>\n",
       "      <th>2107</th>\n",
       "      <td>ome we wanted or we</td>\n",
       "      <td>work</td>\n",
       "      <td>ed so hard for and I</td>\n",
       "    </tr>\n",
       "    <tr>\n",
       "      <th>2108</th>\n",
       "      <td>making our economy</td>\n",
       "      <td>work</td>\n",
       "      <td>for everyone not ju</td>\n",
       "    </tr>\n",
       "    <tr>\n",
       "      <th>2109</th>\n",
       "      <td>stand together and</td>\n",
       "      <td>work</td>\n",
       "      <td>together with respe</td>\n",
       "    </tr>\n",
       "    <tr>\n",
       "      <th>2110</th>\n",
       "      <td>And there is more</td>\n",
       "      <td>work</td>\n",
       "      <td>to do  I am incredi</td>\n",
       "    </tr>\n",
       "  </tbody>\n",
       "</table>\n",
       "<p>2111 rows × 3 columns</p>\n",
       "</div>"
      ],
      "text/plain": [
       "          Contexte gauche Motif trouvé        Contexte droit\n",
       "0      it took to make it         work    But I think it's f\n",
       "1     re than the typical         work  er  There's somethin\n",
       "2     wrong when American         work  ers keep getting mor\n",
       "3     is piecing together         work    and loans, knowing\n",
       "4     believed you had to         work   hard to make your w\n",
       "...                   ...          ...                   ...\n",
       "2106  rump and offered to         work    with him on behalf\n",
       "2107  ome we wanted or we         work  ed so hard for and I\n",
       "2108   making our economy         work   for everyone not ju\n",
       "2109   stand together and         work   together with respe\n",
       "2110    And there is more         work   to do  I am incredi\n",
       "\n",
       "[2111 rows x 3 columns]"
      ]
     },
     "execution_count": 2,
     "metadata": {},
     "output_type": "execute_result"
    }
   ],
   "source": [
    "df_discours =pandas.read_csv('discours_US.csv', sep =\"\\t\")\n",
    "corp = Corpus('TD8')\n",
    "for index, row in df_discours.iterrows():\n",
    "    phrases =row['text'].split(\".\")\n",
    "    for k in phrases:\n",
    "        if k != \"\":\n",
    "            corp.add(Documents(row[\"descr\"],row['speaker'],row['date'],row['link'],k))\n",
    "corp.concorde('work',20)"
   ]
  },
  {
   "cell_type": "code",
   "execution_count": 3,
   "metadata": {},
   "outputs": [],
   "source": [
    "import Search_Engine as s\n",
    "engine = s.SearchEngine(corp)"
   ]
  },
  {
   "cell_type": "code",
   "execution_count": 4,
   "metadata": {},
   "outputs": [
    {
     "name": "stderr",
     "output_type": "stream",
     "text": [
      "Recherche des documents: 100%|██████████| 32305/32305 [00:00<00:00, 2081846.67it/s]\n"
     ]
    },
    {
     "data": {
      "text/html": [
       "<div>\n",
       "<style scoped>\n",
       "    .dataframe tbody tr th:only-of-type {\n",
       "        vertical-align: middle;\n",
       "    }\n",
       "\n",
       "    .dataframe tbody tr th {\n",
       "        vertical-align: top;\n",
       "    }\n",
       "\n",
       "    .dataframe thead th {\n",
       "        text-align: right;\n",
       "    }\n",
       "</style>\n",
       "<table border=\"1\" class=\"dataframe\">\n",
       "  <thead>\n",
       "    <tr style=\"text-align: right;\">\n",
       "      <th></th>\n",
       "      <th>Document</th>\n",
       "      <th>Score</th>\n",
       "    </tr>\n",
       "  </thead>\n",
       "  <tbody>\n",
       "    <tr>\n",
       "      <th>0</th>\n",
       "      <td>21951</td>\n",
       "      <td>22.260612</td>\n",
       "    </tr>\n",
       "    <tr>\n",
       "      <th>1</th>\n",
       "      <td>11446</td>\n",
       "      <td>20.002601</td>\n",
       "    </tr>\n",
       "    <tr>\n",
       "      <th>2</th>\n",
       "      <td>1149</td>\n",
       "      <td>19.611866</td>\n",
       "    </tr>\n",
       "    <tr>\n",
       "      <th>3</th>\n",
       "      <td>23441</td>\n",
       "      <td>18.663827</td>\n",
       "    </tr>\n",
       "    <tr>\n",
       "      <th>4</th>\n",
       "      <td>2030</td>\n",
       "      <td>18.087482</td>\n",
       "    </tr>\n",
       "    <tr>\n",
       "      <th>...</th>\n",
       "      <td>...</td>\n",
       "      <td>...</td>\n",
       "    </tr>\n",
       "    <tr>\n",
       "      <th>32300</th>\n",
       "      <td>18170</td>\n",
       "      <td>0.000000</td>\n",
       "    </tr>\n",
       "    <tr>\n",
       "      <th>32301</th>\n",
       "      <td>18172</td>\n",
       "      <td>0.000000</td>\n",
       "    </tr>\n",
       "    <tr>\n",
       "      <th>32302</th>\n",
       "      <td>18173</td>\n",
       "      <td>0.000000</td>\n",
       "    </tr>\n",
       "    <tr>\n",
       "      <th>32303</th>\n",
       "      <td>18176</td>\n",
       "      <td>0.000000</td>\n",
       "    </tr>\n",
       "    <tr>\n",
       "      <th>32304</th>\n",
       "      <td>16153</td>\n",
       "      <td>0.000000</td>\n",
       "    </tr>\n",
       "  </tbody>\n",
       "</table>\n",
       "<p>32305 rows × 2 columns</p>\n",
       "</div>"
      ],
      "text/plain": [
       "       Document      Score\n",
       "0         21951  22.260612\n",
       "1         11446  20.002601\n",
       "2          1149  19.611866\n",
       "3         23441  18.663827\n",
       "4          2030  18.087482\n",
       "...         ...        ...\n",
       "32300     18170   0.000000\n",
       "32301     18172   0.000000\n",
       "32302     18173   0.000000\n",
       "32303     18176   0.000000\n",
       "32304     16153   0.000000\n",
       "\n",
       "[32305 rows x 2 columns]"
      ]
     },
     "execution_count": 4,
     "metadata": {},
     "output_type": "execute_result"
    }
   ],
   "source": [
    "engine.search(\"Jobs, president, money\",100000)"
   ]
  },
  {
   "cell_type": "code",
   "execution_count": 5,
   "metadata": {},
   "outputs": [],
   "source": [
    "import ipywidgets as widgets\n",
    "from IPython.display import display\n",
    "button = widgets.Button(\n",
    "    description='click to confirm the data',\n",
    "    layout={'width': '300px'}\n",
    ")\n",
    "l =widgets.Label(\"Moteur de recherche\")\n",
    "t =widgets.Text()\n",
    "i =widgets.IntSlider(50)\n",
    "out = widgets.Output()"
   ]
  },
  {
   "cell_type": "code",
   "execution_count": 6,
   "metadata": {},
   "outputs": [
    {
     "data": {
      "application/vnd.jupyter.widget-view+json": {
       "model_id": "eb654af454ef4404ac7e33cd45520c49",
       "version_major": 2,
       "version_minor": 0
      },
      "text/plain": [
       "VBox(children=(Label(value='Moteur de recherche'), Text(value=''), IntSlider(value=50), Button(description='cl…"
      ]
     },
     "metadata": {},
     "output_type": "display_data"
    }
   ],
   "source": [
    "def clique_bouton(event):\n",
    "    query = t.value\n",
    "    num = i.value\n",
    "    with out:\n",
    "        out.clear_output()\n",
    "        # Call the search function\n",
    "        print(engine.search(query, num))\n",
    "\n",
    "button.on_click(clique_bouton)\n",
    "display(widgets.VBox([l,t,i,button,out]))"
   ]
  },
  {
   "cell_type": "code",
   "execution_count": 15,
   "metadata": {},
   "outputs": [
    {
     "name": "stdout",
     "output_type": "stream",
     "text": [
      "<Compressed Sparse Row sparse matrix of dtype 'int32'\n",
      "\twith 5676 stored elements and shape (94, 2378)>\n",
      "  Coords\tValues\n",
      "  (0, 0)\t1\n",
      "  (0, 1)\t1\n",
      "  (0, 2)\t1\n",
      "  (0, 3)\t1\n",
      "  (0, 4)\t1\n",
      "  (0, 5)\t1\n",
      "  (0, 6)\t1\n",
      "  (0, 7)\t1\n",
      "  (0, 8)\t1\n",
      "  (0, 9)\t1\n",
      "  (0, 10)\t1\n",
      "  (0, 11)\t1\n",
      "  (0, 12)\t1\n",
      "  (0, 13)\t1\n",
      "  (0, 14)\t1\n",
      "  (0, 15)\t1\n",
      "  (0, 16)\t1\n",
      "  (0, 17)\t1\n",
      "  (0, 18)\t1\n",
      "  (0, 19)\t1\n",
      "  (0, 20)\t1\n",
      "  (0, 21)\t1\n",
      "  (0, 22)\t1\n",
      "  (0, 23)\t1\n",
      "  (0, 24)\t1\n",
      "  :\t:\n",
      "  (93, 4)\t1\n",
      "  (93, 17)\t1\n",
      "  (93, 31)\t1\n",
      "  (93, 61)\t1\n",
      "  (93, 94)\t1\n",
      "  (93, 130)\t1\n",
      "  (93, 164)\t1\n",
      "  (93, 286)\t1\n",
      "  (93, 392)\t1\n",
      "  (93, 877)\t1\n",
      "  (93, 888)\t1\n",
      "  (93, 1674)\t1\n",
      "  (93, 2046)\t1\n",
      "  (93, 2060)\t1\n",
      "  (93, 2067)\t1\n",
      "  (93, 2105)\t1\n",
      "  (93, 2369)\t1\n",
      "  (93, 2370)\t1\n",
      "  (93, 2371)\t1\n",
      "  (93, 2372)\t1\n",
      "  (93, 2373)\t1\n",
      "  (93, 2374)\t1\n",
      "  (93, 2375)\t1\n",
      "  (93, 2376)\t1\n",
      "  (93, 2377)\t1\n"
     ]
    }
   ],
   "source": [
    "import pickle\n",
    "with open(\"../corpus_ai.pkl\", \"rb\") as f:\n",
    "    corpus = pickle.load(f)\n",
    "ai_engine = s.SearchEngine(corpus)\n",
    "print(ai_engine.construire_matrice_tf())"
   ]
  },
  {
   "cell_type": "code",
   "execution_count": 12,
   "metadata": {},
   "outputs": [
    {
     "name": "stdout",
     "output_type": "stream",
     "text": [
      "{0: 1, 4: 1, 5: 1, 7: 1, 10: 2, 11: 1, 12: 1, 15: 1, 19: 1, 20: 1, 21: 1, 26: 1, 28: 1, 29: 1, 36: 1, 39: 1, 42: 1, 55: 1}\n"
     ]
    },
    {
     "data": {
      "image/png": "[encoded data removed]",
      "text/plain": [
       "<Figure size 1000x500 with 1 Axes>"
      ]
     },
     "metadata": {},
     "output_type": "display_data"
    },
    {
     "name": "stdout",
     "output_type": "stream",
     "text": [
      "{0: 1, 4: 1, 5: 1, 7: 1, 10: 2, 11: 1, 12: 1, 15: 1, 19: 1, 20: 1, 21: 1, 26: 1, 28: 1, 29: 1, 36: 1, 39: 1, 42: 1, 55: 1}\n"
     ]
    }
   ],
   "source": [
    "print(ai_engine.timeline(\"then\"))"
   ]
  }
 ],
 "metadata": {
  "kernelspec": {
   "display_name": "Python",
   "language": "python",
   "name": "python3"
  },
  "language_info": {
   "codemirror_mode": {
    "name": "ipython",
    "version": 3
   },
   "file_extension": ".py",
   "mimetype": "text/x-python",
   "name": "python",
   "nbconvert_exporter": "python",
   "pygments_lexer": "ipython3",
   "version": "3.12.7"
  }
 },
 "nbformat": 4,
 "nbformat_minor": 2
}
