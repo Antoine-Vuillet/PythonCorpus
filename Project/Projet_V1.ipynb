{
 "cells": [
  {
   "cell_type": "code",
   "execution_count": null,
   "metadata": {},
   "outputs": [],
   "source": [
    "import pickle\n",
    "with open(\"../corpus_ai.pkl\", \"rb\") as f:\n",
    "    corpus = pickle.load(f)\n",
    "\n",
    "print(corpus.show())"
   ]
  }
 ],
 "metadata": {
  "kernelspec": {
   "display_name": "Python",
   "language": "python",
   "name": "python3"
  },
  "language_info": {
   "name": "python",
   "version": "3.12.7"
  }
 },
 "nbformat": 4,
 "nbformat_minor": 2
}
