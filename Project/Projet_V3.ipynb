{
 "cells": [
  {
   "cell_type": "code",
   "execution_count": 2,
   "metadata": {},
   "outputs": [],
   "source": [
    "# importation des librairies\n",
    "import pandas\n",
    "from Corpus import Corpus\n",
    "from Classes import Documents"
   ]
  },
  {
   "cell_type": "code",
   "execution_count": 3,
   "metadata": {},
   "outputs": [
    {
     "data": {
      "text/html": [
       "<div>\n",
       "<style scoped>\n",
       "    .dataframe tbody tr th:only-of-type {\n",
       "        vertical-align: middle;\n",
       "    }\n",
       "\n",
       "    .dataframe tbody tr th {\n",
       "        vertical-align: top;\n",
       "    }\n",
       "\n",
       "    .dataframe thead th {\n",
       "        text-align: right;\n",
       "    }\n",
       "</style>\n",
       "<table border=\"1\" class=\"dataframe\">\n",
       "  <thead>\n",
       "    <tr style=\"text-align: right;\">\n",
       "      <th></th>\n",
       "      <th>Contexte gauche</th>\n",
       "      <th>Motif trouvé</th>\n",
       "      <th>Contexte droit</th>\n",
       "    </tr>\n",
       "  </thead>\n",
       "  <tbody>\n",
       "    <tr>\n",
       "      <th>0</th>\n",
       "      <td>it took to make it</td>\n",
       "      <td>work</td>\n",
       "      <td>But I think it's f</td>\n",
       "    </tr>\n",
       "    <tr>\n",
       "      <th>1</th>\n",
       "      <td>re than the typical</td>\n",
       "      <td>work</td>\n",
       "      <td>er  There's somethin</td>\n",
       "    </tr>\n",
       "    <tr>\n",
       "      <th>2</th>\n",
       "      <td>wrong when American</td>\n",
       "      <td>work</td>\n",
       "      <td>ers keep getting mor</td>\n",
       "    </tr>\n",
       "    <tr>\n",
       "      <th>3</th>\n",
       "      <td>is piecing together</td>\n",
       "      <td>work</td>\n",
       "      <td>and loans, knowing</td>\n",
       "    </tr>\n",
       "    <tr>\n",
       "      <th>4</th>\n",
       "      <td>believed you had to</td>\n",
       "      <td>work</td>\n",
       "      <td>hard to make your w</td>\n",
       "    </tr>\n",
       "    <tr>\n",
       "      <th>...</th>\n",
       "      <td>...</td>\n",
       "      <td>...</td>\n",
       "      <td>...</td>\n",
       "    </tr>\n",
       "    <tr>\n",
       "      <th>2106</th>\n",
       "      <td>rump and offered to</td>\n",
       "      <td>work</td>\n",
       "      <td>with him on behalf</td>\n",
       "    </tr>\n",
       "    <tr>\n",
       "      <th>2107</th>\n",
       "      <td>ome we wanted or we</td>\n",
       "      <td>work</td>\n",
       "      <td>ed so hard for and I</td>\n",
       "    </tr>\n",
       "    <tr>\n",
       "      <th>2108</th>\n",
       "      <td>making our economy</td>\n",
       "      <td>work</td>\n",
       "      <td>for everyone not ju</td>\n",
       "    </tr>\n",
       "    <tr>\n",
       "      <th>2109</th>\n",
       "      <td>stand together and</td>\n",
       "      <td>work</td>\n",
       "      <td>together with respe</td>\n",
       "    </tr>\n",
       "    <tr>\n",
       "      <th>2110</th>\n",
       "      <td>And there is more</td>\n",
       "      <td>work</td>\n",
       "      <td>to do  I am incredi</td>\n",
       "    </tr>\n",
       "  </tbody>\n",
       "</table>\n",
       "<p>2111 rows × 3 columns</p>\n",
       "</div>"
      ],
      "text/plain": [
       "          Contexte gauche Motif trouvé        Contexte droit\n",
       "0      it took to make it         work    But I think it's f\n",
       "1     re than the typical         work  er  There's somethin\n",
       "2     wrong when American         work  ers keep getting mor\n",
       "3     is piecing together         work    and loans, knowing\n",
       "4     believed you had to         work   hard to make your w\n",
       "...                   ...          ...                   ...\n",
       "2106  rump and offered to         work    with him on behalf\n",
       "2107  ome we wanted or we         work  ed so hard for and I\n",
       "2108   making our economy         work   for everyone not ju\n",
       "2109   stand together and         work   together with respe\n",
       "2110    And there is more         work   to do  I am incredi\n",
       "\n",
       "[2111 rows x 3 columns]"
      ]
     },
     "execution_count": 3,
     "metadata": {},
     "output_type": "execute_result"
    }
   ],
   "source": [
    "# lecture du fichier csv discours_US vu en cours pour la réalisation d'opération sur un corpus et la recherche \n",
    "df_discours =pandas.read_csv('discours_US.csv', sep =\"\\t\")\n",
    "corp = Corpus('TD8')\n",
    "for index, row in df_discours.iterrows():\n",
    "    phrases =row['text'].split(\".\")\n",
    "    for k in phrases:\n",
    "        if k != \"\":\n",
    "            corp.add(Documents(row[\"descr\"],row['speaker'],row['date'],row['link'],k))\n",
    "corp.concorde('work',20)"
   ]
  },
  {
   "cell_type": "code",
   "execution_count": 4,
   "metadata": {},
   "outputs": [],
   "source": [
    "# initialisation du moteur de recherche\n",
    "import Search_Engine as s\n",
    "engine = s.SearchEngine(corp)"
   ]
  },
  {
   "cell_type": "code",
   "execution_count": 5,
   "metadata": {},
   "outputs": [
    {
     "name": "stderr",
     "output_type": "stream",
     "text": [
      "Recherche des documents: 100%|██████████| 32305/32305 [00:00<00:00, 1170428.45it/s]\n"
     ]
    },
    {
     "data": {
      "text/html": [
       "<div>\n",
       "<style scoped>\n",
       "    .dataframe tbody tr th:only-of-type {\n",
       "        vertical-align: middle;\n",
       "    }\n",
       "\n",
       "    .dataframe tbody tr th {\n",
       "        vertical-align: top;\n",
       "    }\n",
       "\n",
       "    .dataframe thead th {\n",
       "        text-align: right;\n",
       "    }\n",
       "</style>\n",
       "<table border=\"1\" class=\"dataframe\">\n",
       "  <thead>\n",
       "    <tr style=\"text-align: right;\">\n",
       "      <th></th>\n",
       "      <th>Document</th>\n",
       "      <th>Score</th>\n",
       "    </tr>\n",
       "  </thead>\n",
       "  <tbody>\n",
       "    <tr>\n",
       "      <th>0</th>\n",
       "      <td>21951</td>\n",
       "      <td>22.260612</td>\n",
       "    </tr>\n",
       "    <tr>\n",
       "      <th>1</th>\n",
       "      <td>11446</td>\n",
       "      <td>20.002601</td>\n",
       "    </tr>\n",
       "    <tr>\n",
       "      <th>2</th>\n",
       "      <td>1149</td>\n",
       "      <td>19.611866</td>\n",
       "    </tr>\n",
       "    <tr>\n",
       "      <th>3</th>\n",
       "      <td>23441</td>\n",
       "      <td>18.663827</td>\n",
       "    </tr>\n",
       "    <tr>\n",
       "      <th>4</th>\n",
       "      <td>2030</td>\n",
       "      <td>18.087482</td>\n",
       "    </tr>\n",
       "    <tr>\n",
       "      <th>...</th>\n",
       "      <td>...</td>\n",
       "      <td>...</td>\n",
       "    </tr>\n",
       "    <tr>\n",
       "      <th>32300</th>\n",
       "      <td>18170</td>\n",
       "      <td>0.000000</td>\n",
       "    </tr>\n",
       "    <tr>\n",
       "      <th>32301</th>\n",
       "      <td>18172</td>\n",
       "      <td>0.000000</td>\n",
       "    </tr>\n",
       "    <tr>\n",
       "      <th>32302</th>\n",
       "      <td>18173</td>\n",
       "      <td>0.000000</td>\n",
       "    </tr>\n",
       "    <tr>\n",
       "      <th>32303</th>\n",
       "      <td>18176</td>\n",
       "      <td>0.000000</td>\n",
       "    </tr>\n",
       "    <tr>\n",
       "      <th>32304</th>\n",
       "      <td>16153</td>\n",
       "      <td>0.000000</td>\n",
       "    </tr>\n",
       "  </tbody>\n",
       "</table>\n",
       "<p>32305 rows × 2 columns</p>\n",
       "</div>"
      ],
      "text/plain": [
       "       Document      Score\n",
       "0         21951  22.260612\n",
       "1         11446  20.002601\n",
       "2          1149  19.611866\n",
       "3         23441  18.663827\n",
       "4          2030  18.087482\n",
       "...         ...        ...\n",
       "32300     18170   0.000000\n",
       "32301     18172   0.000000\n",
       "32302     18173   0.000000\n",
       "32303     18176   0.000000\n",
       "32304     16153   0.000000\n",
       "\n",
       "[32305 rows x 2 columns]"
      ]
     },
     "execution_count": 5,
     "metadata": {},
     "output_type": "execute_result"
    }
   ],
   "source": [
    "# recherche de mots clés dans le corpus \n",
    "engine.search(\"Jobs, president, money\",100000)"
   ]
  },
  {
   "cell_type": "code",
   "execution_count": 6,
   "metadata": {},
   "outputs": [],
   "source": [
    "# widget pour la recherche de mots clés\n",
    "\n",
    "# importation des librairies\n",
    "import ipywidgets as widgets\n",
    "from IPython.display import display\n",
    "\n",
    "# création des widgets (bouton, label, text, slider, output)\n",
    "button = widgets.Button(\n",
    "    description='click to confirm the data',\n",
    "    layout={'width': '300px'}\n",
    ")\n",
    "l =widgets.Label(\"Moteur de recherche\")\n",
    "t =widgets.Text()\n",
    "i =widgets.IntSlider(50)\n",
    "out = widgets.Output()"
   ]
  },
  {
   "cell_type": "code",
   "execution_count": 7,
   "metadata": {},
   "outputs": [
    {
     "data": {
      "application/vnd.jupyter.widget-view+json": {
       "model_id": "45138017e2734ae09d9319734b4f51e0",
       "version_major": 2,
       "version_minor": 0
      },
      "text/plain": [
       "VBox(children=(Label(value='Moteur de recherche'), Text(value=''), IntSlider(value=50), Button(description='cl…"
      ]
     },
     "metadata": {},
     "output_type": "display_data"
    }
   ],
   "source": [
    "# fonction pour la recherche de mots clés\n",
    "def clique_bouton(event):\n",
    "    query = t.value # récupération de la valeur du text\n",
    "    num = i.value # récupération de la valeur du slider\n",
    "    with out:\n",
    "        out.clear_output()\n",
    "        # appel de la fonction search du moteur de recherche\n",
    "        print(engine.search(query, num))\n",
    "\n",
    "# affichage lors du clique sur le bouton\n",
    "button.on_click(clique_bouton)\n",
    "display(widgets.VBox([l,t,i,button,out]))"
   ]
  },
  {
   "cell_type": "code",
   "execution_count": 8,
   "metadata": {},
   "outputs": [
    {
     "name": "stdout",
     "output_type": "stream",
     "text": [
      "<Compressed Sparse Row sparse matrix of dtype 'int32'\n",
      "\twith 5676 stored elements and shape (94, 2378)>\n",
      "  Coords\tValues\n",
      "  (0, 0)\t1\n",
      "  (0, 1)\t1\n",
      "  (0, 2)\t1\n",
      "  (0, 3)\t1\n",
      "  (0, 4)\t1\n",
      "  (0, 5)\t1\n",
      "  (0, 6)\t1\n",
      "  (0, 7)\t1\n",
      "  (0, 8)\t1\n",
      "  (0, 9)\t1\n",
      "  (0, 10)\t1\n",
      "  (0, 11)\t1\n",
      "  (0, 12)\t1\n",
      "  (0, 13)\t1\n",
      "  (0, 14)\t1\n",
      "  (0, 15)\t1\n",
      "  (0, 16)\t1\n",
      "  (0, 17)\t1\n",
      "  (0, 18)\t1\n",
      "  (0, 19)\t1\n",
      "  (0, 20)\t1\n",
      "  (0, 21)\t1\n",
      "  (0, 22)\t1\n",
      "  (0, 23)\t1\n",
      "  (0, 24)\t1\n",
      "  :\t:\n",
      "  (93, 4)\t1\n",
      "  (93, 17)\t1\n",
      "  (93, 31)\t1\n",
      "  (93, 61)\t1\n",
      "  (93, 94)\t1\n",
      "  (93, 130)\t1\n",
      "  (93, 164)\t1\n",
      "  (93, 286)\t1\n",
      "  (93, 392)\t1\n",
      "  (93, 877)\t1\n",
      "  (93, 888)\t1\n",
      "  (93, 1674)\t1\n",
      "  (93, 2046)\t1\n",
      "  (93, 2060)\t1\n",
      "  (93, 2067)\t1\n",
      "  (93, 2105)\t1\n",
      "  (93, 2369)\t1\n",
      "  (93, 2370)\t1\n",
      "  (93, 2371)\t1\n",
      "  (93, 2372)\t1\n",
      "  (93, 2373)\t1\n",
      "  (93, 2374)\t1\n",
      "  (93, 2375)\t1\n",
      "  (93, 2376)\t1\n",
      "  (93, 2377)\t1\n"
     ]
    }
   ],
   "source": [
    "# importation du corpus sur l'intelligence artificielle\n",
    "import pickle\n",
    "with open(\"../corpus_ai.pkl\", \"rb\") as f:\n",
    "    corpus = pickle.load(f)\n",
    "    \n",
    "# initialisation du moteur de recherche sur l'intelligence artificielle\n",
    "ai_engine = s.SearchEngine(corpus)\n",
    "\n",
    "#affichage de la matrice tf pour s'assurer de son initialisation automatique suite a la création du moteur de recherche\n",
    "print(ai_engine.construire_matrice_tf())"
   ]
  },
  {
   "cell_type": "code",
   "execution_count": 9,
   "metadata": {},
   "outputs": [
    {
     "data": {
      "application/vnd.jupyter.widget-view+json": {
       "model_id": "d4c19861d5a34bacab016454dc846625",
       "version_major": 2,
       "version_minor": 0
      },
      "text/plain": [
       "Button(description='Afficher le vocabulaire', style=ButtonStyle())"
      ]
     },
     "metadata": {},
     "output_type": "display_data"
    },
    {
     "data": {
      "application/vnd.jupyter.widget-view+json": {
       "model_id": "d5fc27793bfe4ee396b92bb1dd95654f",
       "version_major": 2,
       "version_minor": 0
      },
      "text/plain": [
       "Box(children=(Output(),), layout=Layout(border_bottom='1px solid black', border_left='1px solid black', border…"
      ]
     },
     "metadata": {},
     "output_type": "display_data"
    }
   ],
   "source": [
    "# Création d'un bouton pour afficher le vocabulaire\n",
    "out_vocabulaire = widgets.Output()\n",
    "\n",
    "# Fonction pour afficher le vocabulaire\n",
    "def afficher_vocabulaire(event):\n",
    "    with out_vocabulaire:\n",
    "        out_vocabulaire.clear_output()\n",
    "        vocabulaire = ai_engine.construire_vocabulaire()\n",
    "        print(\"Vocabulaire du corpus :\")\n",
    "        print(vocabulaire)\n",
    "\n",
    "# Création du bouton\n",
    "button_vocabulaire = widgets.Button(description=\"Afficher le vocabulaire\")\n",
    "button_vocabulaire.on_click(afficher_vocabulaire)\n",
    "\n",
    "# Conteneur avec barre de défilement\n",
    "scrollable_vocabulaire = widgets.Box([out_vocabulaire], layout=widgets.Layout(overflow='auto', width='100%', height='100px', border='1px solid black'))\n",
    "\n",
    "# affichage du bouton et du conteneur avec barre de défilement pour le résultat\n",
    "display(button_vocabulaire, scrollable_vocabulaire)"
   ]
  },
  {
   "cell_type": "code",
   "execution_count": 10,
   "metadata": {},
   "outputs": [
    {
     "data": {
      "application/vnd.jupyter.widget-view+json": {
       "model_id": "be469e3b269a4b0a802b72b18bb94963",
       "version_major": 2,
       "version_minor": 0
      },
      "text/plain": [
       "Button(description='Afficher la matrice TF', style=ButtonStyle())"
      ]
     },
     "metadata": {},
     "output_type": "display_data"
    },
    {
     "data": {
      "application/vnd.jupyter.widget-view+json": {
       "model_id": "80788833bc144a4b9b4b62ed23eaf83f",
       "version_major": 2,
       "version_minor": 0
      },
      "text/plain": [
       "Box(children=(Output(),), layout=Layout(border_bottom='1px solid black', border_left='1px solid black', border…"
      ]
     },
     "metadata": {},
     "output_type": "display_data"
    }
   ],
   "source": [
    "# création d'un bouton pour afficher la matrice TF\n",
    "out_matrice_tf = widgets.Output()\n",
    "\n",
    "# Fonction pour afficher la matrice TF\n",
    "def afficher_matrice_tf(event):\n",
    "    with out_matrice_tf:\n",
    "        out_matrice_tf.clear_output()\n",
    "        print(\"Matrice TF :\")\n",
    "        display(ai_engine.matrice_tf_df.head())\n",
    "\n",
    "# Création du bouton\n",
    "button_matrice_tf = widgets.Button(description=\"Afficher la matrice TF\")\n",
    "button_matrice_tf.on_click(afficher_matrice_tf)\n",
    "\n",
    "# Conteneur avec barre de défilement\n",
    "scrollable_matrice_tf = widgets.Box([out_matrice_tf], layout=widgets.Layout(overflow='auto', width='100%', height='300px', border='1px solid black'))\n",
    "\n",
    "# Affichage du bouton et du conteneur avec barre de défilement pour le résultat\n",
    "display(button_matrice_tf, scrollable_matrice_tf)"
   ]
  },
  {
   "cell_type": "code",
   "execution_count": 11,
   "metadata": {},
   "outputs": [
    {
     "data": {
      "application/vnd.jupyter.widget-view+json": {
       "model_id": "7d110dd7e35646f3b3f369cf97e63efc",
       "version_major": 2,
       "version_minor": 0
      },
      "text/plain": [
       "VBox(children=(Button(description='Afficher la fréquence documentaire', style=ButtonStyle()), Output(), Button…"
      ]
     },
     "metadata": {},
     "output_type": "display_data"
    }
   ],
   "source": [
    "# Widgets Output pour capturer les résultats\n",
    "out_freq_doc = widgets.Output()\n",
    "out_total_occurrences = widgets.Output()\n",
    "\n",
    "# Fonction pour afficher la fréquence documentaire\n",
    "def afficher_freq_doc(event):\n",
    "    with out_freq_doc:\n",
    "        out_freq_doc.clear_output()\n",
    "        doc_freq = ai_engine.calculer_doc_freq()\n",
    "        print(\"Fréquence documentaire (nombre de documents contenant chaque terme) :\")\n",
    "        display(doc_freq)\n",
    "        \n",
    "# Fonction pour afficher le nombre total d'occurrences\n",
    "def afficher_total_occurrences(event):\n",
    "    with out_total_occurrences:\n",
    "        out_total_occurrences.clear_output()\n",
    "        total_occurrences = ai_engine.calculer_total_occurrences()\n",
    "        print(\"Nombre total d'occurrences de chaque terme dans le corpus :\")\n",
    "        display(total_occurrences)\n",
    "\n",
    "\n",
    "# Boutons pour déclencher les fonctions\n",
    "button_freq_doc = widgets.Button(description=\"Afficher la fréquence documentaire\")\n",
    "button_freq_doc.on_click(afficher_freq_doc)\n",
    "\n",
    "button_total_occurrences = widgets.Button(description=\"Afficher le nombre total d'occurrences\")\n",
    "button_total_occurrences.on_click(afficher_total_occurrences)\n",
    "\n",
    "# Afficher les boutons et les résultats ensemble dans un vbox\n",
    "display(widgets.VBox([button_freq_doc, out_freq_doc, button_total_occurrences, out_total_occurrences]))"
   ]
  },
  {
   "cell_type": "code",
   "execution_count": 12,
   "metadata": {},
   "outputs": [
    {
     "data": {
      "application/vnd.jupyter.widget-view+json": {
       "model_id": "b5dee2f0b9dd47cc97bdc2e369b3993e",
       "version_major": 2,
       "version_minor": 0
      },
      "text/plain": [
       "Button(description='Afficher la matrice TF-IDF', style=ButtonStyle())"
      ]
     },
     "metadata": {},
     "output_type": "display_data"
    },
    {
     "data": {
      "application/vnd.jupyter.widget-view+json": {
       "model_id": "845dac6dd90740abbc9abad43821f839",
       "version_major": 2,
       "version_minor": 0
      },
      "text/plain": [
       "Box(children=(Output(),), layout=Layout(border_bottom='1px solid black', border_left='1px solid black', border…"
      ]
     },
     "metadata": {},
     "output_type": "display_data"
    }
   ],
   "source": [
    "# Création d'un bouton pour afficher la matrice TF-IDF\n",
    "out_matrice_tfidf = widgets.Output()\n",
    "\n",
    "# Fonction pour afficher la matrice TF-IDF\n",
    "def afficher_matrice_tfidf(event):\n",
    "    with out_matrice_tfidf:\n",
    "        out_matrice_tfidf.clear_output()\n",
    "        print(\"Matrice TF-IDF :\")\n",
    "        display(ai_engine.mat_TFxIDF_df.head())\n",
    "\n",
    "# Création du bouton\n",
    "button_matrice_tfidf = widgets.Button(description=\"Afficher la matrice TF-IDF\")\n",
    "button_matrice_tfidf.on_click(afficher_matrice_tfidf)\n",
    "\n",
    "# Conteneur avec barre de défilement\n",
    "scrollable_matrice_tfidf = widgets.Box([out_matrice_tfidf], layout=widgets.Layout(overflow='auto', width='100%', height='300px', border='1px solid black'))\n",
    "\n",
    "# Affichage du bouton et du conteneur avec barre de défilement pour le résultat\n",
    "display(button_matrice_tfidf, scrollable_matrice_tfidf)"
   ]
  },
  {
   "cell_type": "code",
   "execution_count": 13,
   "metadata": {},
   "outputs": [
    {
     "data": {
      "image/png": "[encoded data removed]",
      "text/plain": [
       "<Figure size 1000x500 with 1 Axes>"
      ]
     },
     "metadata": {},
     "output_type": "display_data"
    },
    {
     "name": "stdout",
     "output_type": "stream",
     "text": [
      "{3: 1, 4: 1, 5: 1, 7: 1, 10: 1, 11: 1, 12: 1, 15: 2, 16: 1, 17: 1, 19: 1, 20: 1, 21: 1, 22: 1, 23: 2, 26: 2, 27: 1, 28: 1, 29: 1, 31: 1, 35: 1, 36: 1, 37: 1, 38: 1, 39: 1, 40: 1, 42: 1, 45: 1, 47: 1, 53: 2, 54: 1, 55: 1, 56: 1, 57: 1, 58: 1, 59: 1, 60: 1, 91: 1, 92: 1}\n"
     ]
    }
   ],
   "source": [
    "# timeline pour le mot \"and\" dans le corpus \n",
    "print(ai_engine.timeline(\"and\"))"
   ]
  },
  {
   "cell_type": "code",
   "execution_count": 14,
   "metadata": {},
   "outputs": [
    {
     "data": {
      "application/vnd.jupyter.widget-view+json": {
       "model_id": "2b04290c8b204061a5d8ea4a590cfdb0",
       "version_major": 2,
       "version_minor": 0
      },
      "text/plain": [
       "VBox(children=(Label(value='Moteur de recherche'), Text(value=''), Button(description='click to confirm the da…"
      ]
     },
     "metadata": {},
     "output_type": "display_data"
    }
   ],
   "source": [
    "# création des widgets (bouton, label, text, slider, output)\n",
    "button = widgets.Button(\n",
    "    description='click to confirm the data',\n",
    "    layout={'width': '300px'}\n",
    ")\n",
    "l =widgets.Label(\"Moteur de recherche\")\n",
    "t =widgets.Text()\n",
    "out = widgets.Output()\n",
    "\n",
    "# fonction pour la recherche de mots clés\n",
    "def clique_bouton(event):\n",
    "    query = t.value # récupération de la valeur du text\n",
    "    with out:\n",
    "        out.clear_output()\n",
    "        # appel de la fonction search du moteur de recherche\n",
    "        print(engine.timeline(query))\n",
    "\n",
    "# affichage lors du clique sur le bouton\n",
    "button.on_click(clique_bouton)\n",
    "display(widgets.VBox([l,t,button,out]))"
   ]
  }
 ],
 "metadata": {
  "kernelspec": {
   "display_name": "Python",
   "language": "python",
   "name": "python3"
  },
  "language_info": {
   "codemirror_mode": {
    "name": "ipython",
    "version": 3
   },
   "file_extension": ".py",
   "mimetype": "text/x-python",
   "name": "python",
   "nbconvert_exporter": "python",
   "pygments_lexer": "ipython3",
   "version": "3.12.7"
  }
 },
 "nbformat": 4,
 "nbformat_minor": 2
}
